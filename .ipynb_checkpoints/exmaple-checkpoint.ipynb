{
 "cells": [
  {
   "cell_type": "code",
   "execution_count": 52,
   "metadata": {
    "ExecuteTime": {
     "end_time": "2019-03-14T17:14:31.086613Z",
     "start_time": "2019-03-14T17:14:31.075566Z"
    }
   },
   "outputs": [],
   "source": [
    "import numpy as np \n",
    "import pandas as pd \n",
    "import sys, os \n",
    "import matplotlib.pyplot as plt \n",
    "%matplotlib inline\n",
    "sys.path.append(os.getcwd())\n",
    "\n",
    "# Make sure you've already run cleanData.py first, it create a data/database subdirectory\n",
    "# Below is to ensure that cleanData.py is executed\n",
    "if not os.path.exists('data/database/'):\n",
    "    import cleanData # since in cleanData.py there is no function, importing it will execute the script\n",
    "import imvol as im"
   ]
  },
  {
   "cell_type": "code",
   "execution_count": 8,
   "metadata": {
    "ExecuteTime": {
     "end_time": "2019-03-14T16:26:06.264002Z",
     "start_time": "2019-03-14T16:26:06.228492Z"
    }
   },
   "outputs": [],
   "source": [
    "# inside the imvol.py file, I provide two classes. DataSet is for general purpose data, IMVOL is for the \n",
    "# IVS project specifically. you can type 'im.DataSet??' inside the jupyter notebook to view the source file\n",
    "im.DataSet??"
   ]
  },
  {
   "cell_type": "code",
   "execution_count": null,
   "metadata": {},
   "outputs": [],
   "source": [
    "im.IMVOL??"
   ]
  },
  {
   "cell_type": "markdown",
   "metadata": {},
   "source": [
    "**API of DataSet class**\n",
    "\n",
    "```python\n",
    "class DataSet(object):\n",
    "    # Constructor\n",
    "    def __init__(self,\n",
    "                 features,                  # the feather data\n",
    "                 labels,                    # the labels data\n",
    "                 sequence=False,            # whether to make sequence (for RNN)\n",
    "                 sequence_size=5,           # if make sequence, how long the sequence size is \n",
    "                 sequence_mode=\"ManyToOne\", # sequence mode: \"ManyToMany\" or \"ManyToOne\" are available\n",
    "                 rolling=False,             # whether to create rolling splits of the sample\n",
    "                 expand=True,               # if rolling=True, whether to replace rolling to expanding\n",
    "                 train_days=504,            # the number of training days, valid if rolling=True\n",
    "                 test_days=132,             # the number of testing days, valid if rolling=True\n",
    "                 train_split=0.8,           # if rolling=False, how to ratio to split train and test period\n",
    "                 valid_split=0.8,           # the ratio to split train sample to train and validation\n",
    "                 **args):\n",
    "```"
   ]
  },
  {
   "cell_type": "markdown",
   "metadata": {},
   "source": [
    "**Example usage**"
   ]
  },
  {
   "cell_type": "code",
   "execution_count": 11,
   "metadata": {
    "ExecuteTime": {
     "end_time": "2019-03-14T16:37:52.019461Z",
     "start_time": "2019-03-14T16:37:52.009685Z"
    }
   },
   "outputs": [
    {
     "name": "stdout",
     "output_type": "stream",
     "text": [
      "Training sample shape\n",
      "(640, 5)\n",
      "(640, 5)\n",
      "Validation sample shape\n",
      "(160, 5)\n",
      "(160, 5)\n",
      "Testing sample shape\n",
      "(200, 5)\n",
      "(200, 5)\n"
     ]
    }
   ],
   "source": [
    "# create dummy data\n",
    "data = np.random.rand(1001,5) # 1001 observations and 5 feathers\n",
    "feathers = data[:-1]\n",
    "labels = data[1:]\n",
    "\n",
    "dataset = im.DataSet(feathers,labels) #construct the instance\n",
    "# now we can easily access the train, valid, and test samples, the features is x, and labels is y\n",
    "print(\"Training sample shape\")\n",
    "print(dataset.train.x.shape)\n",
    "print(dataset.train.y.shape)\n",
    "print(\"Validation sample shape\")\n",
    "print(dataset.valid.x.shape)\n",
    "print(dataset.valid.y.shape)\n",
    "print(\"Testing sample shape\")\n",
    "print(dataset.test.x.shape)\n",
    "print(dataset.test.y.shape)"
   ]
  },
  {
   "cell_type": "code",
   "execution_count": 12,
   "metadata": {
    "ExecuteTime": {
     "end_time": "2019-03-14T16:38:45.120138Z",
     "start_time": "2019-03-14T16:38:45.107829Z"
    }
   },
   "outputs": [
    {
     "name": "stdout",
     "output_type": "stream",
     "text": [
      "Training sample shape\n",
      "(640, 5, 5)\n",
      "(640, 5)\n",
      "Validation sample shape\n",
      "(160, 5, 5)\n",
      "(160, 5)\n",
      "Testing sample shape\n",
      "(200, 5, 5)\n",
      "(200, 5)\n"
     ]
    }
   ],
   "source": [
    "# If we want to make sequence, \"ManyToOne\" Mode\n",
    "dataset = im.DataSet(feathers,labels,sequence=True,sequence_mode='ManyToOne',sequence_size=5)\n",
    "print(\"Training sample shape\")\n",
    "print(dataset.train.x.shape)\n",
    "print(dataset.train.y.shape)\n",
    "print(\"Validation sample shape\")\n",
    "print(dataset.valid.x.shape)\n",
    "print(dataset.valid.y.shape)\n",
    "print(\"Testing sample shape\")\n",
    "print(dataset.test.x.shape)\n",
    "print(dataset.test.y.shape)"
   ]
  },
  {
   "cell_type": "code",
   "execution_count": 14,
   "metadata": {
    "ExecuteTime": {
     "end_time": "2019-03-14T16:39:52.466487Z",
     "start_time": "2019-03-14T16:39:52.455254Z"
    }
   },
   "outputs": [
    {
     "name": "stdout",
     "output_type": "stream",
     "text": [
      "Training sample shape\n",
      "(640, 5, 5)\n",
      "(640, 5, 5)\n",
      "Validation sample shape\n",
      "(160, 5, 5)\n",
      "(160, 5, 5)\n",
      "Testing sample shape\n",
      "(200, 5, 5)\n",
      "(200, 5, 5)\n"
     ]
    }
   ],
   "source": [
    "# If we want to make sequence, \"ManyToMany\" Mode\n",
    "dataset = im.DataSet(feathers,labels,sequence=True,sequence_mode='ManyToMany',sequence_size=5)\n",
    "print(\"Training sample shape\")\n",
    "print(dataset.train.x.shape)\n",
    "print(dataset.train.y.shape)\n",
    "print(\"Validation sample shape\")\n",
    "print(dataset.valid.x.shape)\n",
    "print(dataset.valid.y.shape)\n",
    "print(\"Testing sample shape\")\n",
    "print(dataset.test.x.shape)\n",
    "print(dataset.test.y.shape)"
   ]
  },
  {
   "cell_type": "markdown",
   "metadata": {},
   "source": [
    "**Rolling (or expanding) splits**"
   ]
  },
  {
   "cell_type": "code",
   "execution_count": 18,
   "metadata": {
    "ExecuteTime": {
     "end_time": "2019-03-14T16:46:11.714166Z",
     "start_time": "2019-03-14T16:46:11.707953Z"
    }
   },
   "outputs": [
    {
     "name": "stdout",
     "output_type": "stream",
     "text": [
      "split 1, training shape (403, 5), validation shape (101, 5)testing shape (252, 5)\n",
      "split 2, training shape (604, 5), validation shape (152, 5)testing shape (244, 5)\n"
     ]
    }
   ],
   "source": [
    "# I prefer expanding window, let's say we want 2 years trainning and 1 year testing\n",
    "dataset = im.DataSet(feathers,labels,rolling=True, expand=True, train_days=504, test_days=252) \n",
    "for i in range(dataset.num_splits): # Once you specify the trainning days and testing days, I will calculate the \n",
    "    # number of splits for you, you can access it by num_splits attributes\n",
    "    dataset = dataset.get_split(i) # Don't forget to overload the dataset instance!!!!\n",
    "    print(f\"split {i+1}, training shape {dataset.train.x.shape}, validation shape {dataset.valid.x.shape}\"+\n",
    "          f\"testing shape {dataset.test.x.shape}\")"
   ]
  },
  {
   "cell_type": "code",
   "execution_count": 19,
   "metadata": {
    "ExecuteTime": {
     "end_time": "2019-03-14T16:47:19.755092Z",
     "start_time": "2019-03-14T16:47:19.747821Z"
    }
   },
   "outputs": [
    {
     "name": "stdout",
     "output_type": "stream",
     "text": [
      "split 1, training shape (403, 5), validation shape (101, 5)testing shape (66, 5)\n",
      "split 2, training shape (456, 5), validation shape (114, 5)testing shape (66, 5)\n",
      "split 3, training shape (508, 5), validation shape (128, 5)testing shape (66, 5)\n",
      "split 4, training shape (561, 5), validation shape (141, 5)testing shape (66, 5)\n",
      "split 5, training shape (614, 5), validation shape (154, 5)testing shape (66, 5)\n",
      "split 6, training shape (667, 5), validation shape (167, 5)testing shape (66, 5)\n",
      "split 7, training shape (720, 5), validation shape (180, 5)testing shape (66, 5)\n",
      "split 8, training shape (772, 5), validation shape (194, 5)testing shape (34, 5)\n"
     ]
    }
   ],
   "source": [
    "# If you shorten you testing period, you will get more splits\n",
    "dataset = im.DataSet(feathers,labels,rolling=True, expand=True, train_days=504, test_days=66) \n",
    "for i in range(dataset.num_splits): \n",
    "     # Don't forget to overload the dataset instance!!!!\n",
    "    dataset = dataset.get_split(i) # Don't forget to overload the dataset instance!!!!\n",
    "     # Don't forget to overload the dataset instance!!!!\n",
    "    print(f\"split {i+1}, training shape {dataset.train.x.shape}, validation shape {dataset.valid.x.shape}\"+\n",
    "          f\"testing shape {dataset.test.x.shape}\")"
   ]
  },
  {
   "cell_type": "markdown",
   "metadata": {},
   "source": [
    "**Now we talk about IMVOL class, which is inherited from DataSet class, which means that all the API in DataSet are still valid for IMVOL class**\n",
    "\n",
    "**Additional API**\n",
    "```python\n",
    "class IMVOL(DataSet):\n",
    "    def __init__(self, \n",
    "                 ticker,                     # which data you want to retrieve\n",
    "                 ahead=1,                    # how many days to take lag as feathers\n",
    "                 otm=False,                  # whehther to use out-of-money option only\n",
    "                 data_path='data/database/', # the database path you generate by running dataClean.py\n",
    "                 **args):                    # any addition parameters will passed to DataSet\n",
    "```"
   ]
  },
  {
   "cell_type": "markdown",
   "metadata": {},
   "source": [
    "**Example usage**"
   ]
  },
  {
   "cell_type": "code",
   "execution_count": 20,
   "metadata": {
    "ExecuteTime": {
     "end_time": "2019-03-14T16:52:42.566484Z",
     "start_time": "2019-03-14T16:52:42.470121Z"
    }
   },
   "outputs": [],
   "source": [
    "imvol = im.IMVOL('AAPL')"
   ]
  },
  {
   "cell_type": "code",
   "execution_count": 21,
   "metadata": {
    "ExecuteTime": {
     "end_time": "2019-03-14T16:53:37.815983Z",
     "start_time": "2019-03-14T16:53:37.799608Z"
    }
   },
   "outputs": [
    {
     "data": {
      "text/html": [
       "<div>\n",
       "<style scoped>\n",
       "    .dataframe tbody tr th:only-of-type {\n",
       "        vertical-align: middle;\n",
       "    }\n",
       "\n",
       "    .dataframe tbody tr th {\n",
       "        vertical-align: top;\n",
       "    }\n",
       "\n",
       "    .dataframe thead th {\n",
       "        text-align: right;\n",
       "    }\n",
       "</style>\n",
       "<table border=\"1\" class=\"dataframe\">\n",
       "  <thead>\n",
       "    <tr style=\"text-align: right;\">\n",
       "      <th></th>\n",
       "      <th>date</th>\n",
       "      <th>maturity</th>\n",
       "      <th>delta</th>\n",
       "      <th>imvol</th>\n",
       "      <th>cp_flag</th>\n",
       "      <th>ticker</th>\n",
       "      <th>d</th>\n",
       "    </tr>\n",
       "  </thead>\n",
       "  <tbody>\n",
       "    <tr>\n",
       "      <th>0</th>\n",
       "      <td>2015-01-02</td>\n",
       "      <td>30</td>\n",
       "      <td>20</td>\n",
       "      <td>0.327</td>\n",
       "      <td>C</td>\n",
       "      <td>AAPL</td>\n",
       "      <td>20</td>\n",
       "    </tr>\n",
       "    <tr>\n",
       "      <th>1</th>\n",
       "      <td>2015-01-02</td>\n",
       "      <td>30</td>\n",
       "      <td>25</td>\n",
       "      <td>0.326</td>\n",
       "      <td>C</td>\n",
       "      <td>AAPL</td>\n",
       "      <td>25</td>\n",
       "    </tr>\n",
       "    <tr>\n",
       "      <th>2</th>\n",
       "      <td>2015-01-02</td>\n",
       "      <td>30</td>\n",
       "      <td>30</td>\n",
       "      <td>0.326</td>\n",
       "      <td>C</td>\n",
       "      <td>AAPL</td>\n",
       "      <td>30</td>\n",
       "    </tr>\n",
       "    <tr>\n",
       "      <th>3</th>\n",
       "      <td>2015-01-02</td>\n",
       "      <td>30</td>\n",
       "      <td>35</td>\n",
       "      <td>0.326</td>\n",
       "      <td>C</td>\n",
       "      <td>AAPL</td>\n",
       "      <td>35</td>\n",
       "    </tr>\n",
       "    <tr>\n",
       "      <th>4</th>\n",
       "      <td>2015-01-02</td>\n",
       "      <td>30</td>\n",
       "      <td>40</td>\n",
       "      <td>0.327</td>\n",
       "      <td>C</td>\n",
       "      <td>AAPL</td>\n",
       "      <td>40</td>\n",
       "    </tr>\n",
       "  </tbody>\n",
       "</table>\n",
       "</div>"
      ],
      "text/plain": [
       "        date  maturity  delta  imvol cp_flag ticker   d\n",
       "0 2015-01-02        30     20  0.327       C   AAPL  20\n",
       "1 2015-01-02        30     25  0.326       C   AAPL  25\n",
       "2 2015-01-02        30     30  0.326       C   AAPL  30\n",
       "3 2015-01-02        30     35  0.326       C   AAPL  35\n",
       "4 2015-01-02        30     40  0.327       C   AAPL  40"
      ]
     },
     "execution_count": 21,
     "metadata": {},
     "output_type": "execute_result"
    }
   ],
   "source": [
    "# once you constract the IMVOL instance, the data will automatically load from 'data_path', and you view itb\n",
    "imvol.data.head(5)"
   ]
  },
  {
   "cell_type": "code",
   "execution_count": 22,
   "metadata": {
    "ExecuteTime": {
     "end_time": "2019-03-14T16:55:02.692868Z",
     "start_time": "2019-03-14T16:55:02.682417Z"
    }
   },
   "outputs": [
    {
     "name": "stdout",
     "output_type": "stream",
     "text": [
      "Training sample shape\n",
      "(482, 208)\n",
      "(482, 208)\n",
      "Validation sample shape\n",
      "(121, 208)\n",
      "(121, 208)\n",
      "Testing sample shape\n",
      "(151, 208)\n",
      "(151, 208)\n"
     ]
    }
   ],
   "source": [
    "# Note the rolling by default if False, so it is one-shot split\n",
    "print(\"Training sample shape\")\n",
    "print(imvol.train.x.shape)\n",
    "print(imvol.train.y.shape)\n",
    "print(\"Validation sample shape\")\n",
    "print(imvol.valid.x.shape)\n",
    "print(imvol.valid.y.shape)\n",
    "print(\"Testing sample shape\")\n",
    "print(imvol.test.x.shape)\n",
    "print(imvol.test.y.shape)"
   ]
  },
  {
   "cell_type": "code",
   "execution_count": 24,
   "metadata": {
    "ExecuteTime": {
     "end_time": "2019-03-14T16:56:25.348529Z",
     "start_time": "2019-03-14T16:56:25.307863Z"
    }
   },
   "outputs": [
    {
     "name": "stdout",
     "output_type": "stream",
     "text": [
      "split 1, training shape (403, 208), validation shape (101, 208)testing shape (66, 208)\n",
      "split 2, training shape (456, 208), validation shape (114, 208)testing shape (66, 208)\n",
      "split 3, training shape (508, 208), validation shape (128, 208)testing shape (66, 208)\n",
      "split 4, training shape (561, 208), validation shape (141, 208)testing shape (52, 208)\n"
     ]
    }
   ],
   "source": [
    "# Let's make expanding\n",
    "imvol = im.IMVOL('MSFT',rolling=True, expand=True, train_days=504, test_days=66) \n",
    "for i in range(imvol.num_splits): \n",
    "    imvol = imvol.get_split(i) # Don't forget to overload the dataset instance!!!!\n",
    "    print(f\"split {i+1}, training shape {imvol.train.x.shape}, validation shape {imvol.valid.x.shape}\"+\n",
    "          f\"testing shape {imvol.test.x.shape}\")"
   ]
  },
  {
   "cell_type": "code",
   "execution_count": 31,
   "metadata": {
    "ExecuteTime": {
     "end_time": "2019-03-14T17:03:29.989445Z",
     "start_time": "2019-03-14T17:03:29.983080Z"
    }
   },
   "outputs": [
    {
     "name": "stdout",
     "output_type": "stream",
     "text": [
      "(52, 208)\n"
     ]
    },
    {
     "data": {
      "text/plain": [
       "array([[      0.19,       0.19,       0.19,       0.19,       0.19],\n",
       "       [      0.18,       0.18,       0.18,       0.18,       0.18],\n",
       "       [      0.18,       0.18,       0.18,       0.19,       0.19],\n",
       "       [      0.17,       0.17,       0.17,       0.17,       0.18],\n",
       "       [      0.21,       0.21,       0.21,       0.21,       0.21]], dtype=float32)"
      ]
     },
     "execution_count": 31,
     "metadata": {},
     "output_type": "execute_result"
    }
   ],
   "source": [
    "# I also provide a option_type attributes for the IMVOL class, which make wrapping numpy data\n",
    "# to Pandas Dataframe more eaiser\n",
    "\n",
    "# for example\n",
    "np.set_printoptions(formatter={'float': '{: 10.2f}'.format}) # I only want to see 2 digits, otherwise too ugly\n",
    "print(imvol.test.y.shape)\n",
    "imvol.test.y[:5,:5] # I only print 5x5 data"
   ]
  },
  {
   "cell_type": "code",
   "execution_count": 30,
   "metadata": {
    "ExecuteTime": {
     "end_time": "2019-03-14T17:01:02.394635Z",
     "start_time": "2019-03-14T17:01:02.352437Z"
    }
   },
   "outputs": [
    {
     "data": {
      "text/html": [
       "<div>\n",
       "<style scoped>\n",
       "    .dataframe tbody tr th:only-of-type {\n",
       "        vertical-align: middle;\n",
       "    }\n",
       "\n",
       "    .dataframe tbody tr th {\n",
       "        vertical-align: top;\n",
       "    }\n",
       "\n",
       "    .dataframe thead tr th {\n",
       "        text-align: left;\n",
       "    }\n",
       "</style>\n",
       "<table border=\"1\" class=\"dataframe\">\n",
       "  <thead>\n",
       "    <tr>\n",
       "      <th>maturity</th>\n",
       "      <th colspan=\"13\" halign=\"left\">30</th>\n",
       "      <th colspan=\"2\" halign=\"left\">60</th>\n",
       "      <th>...</th>\n",
       "      <th colspan=\"2\" halign=\"left\">273</th>\n",
       "      <th colspan=\"13\" halign=\"left\">365</th>\n",
       "    </tr>\n",
       "    <tr>\n",
       "      <th>cp_flag</th>\n",
       "      <th colspan=\"13\" halign=\"left\">C</th>\n",
       "      <th colspan=\"2\" halign=\"left\">C</th>\n",
       "      <th>...</th>\n",
       "      <th colspan=\"2\" halign=\"left\">P</th>\n",
       "      <th colspan=\"13\" halign=\"left\">P</th>\n",
       "    </tr>\n",
       "    <tr>\n",
       "      <th>delta</th>\n",
       "      <th>20</th>\n",
       "      <th>25</th>\n",
       "      <th>30</th>\n",
       "      <th>35</th>\n",
       "      <th>40</th>\n",
       "      <th>45</th>\n",
       "      <th>50</th>\n",
       "      <th>55</th>\n",
       "      <th>60</th>\n",
       "      <th>65</th>\n",
       "      <th>70</th>\n",
       "      <th>75</th>\n",
       "      <th>80</th>\n",
       "      <th>20</th>\n",
       "      <th>25</th>\n",
       "      <th>...</th>\n",
       "      <th>75</th>\n",
       "      <th>80</th>\n",
       "      <th>20</th>\n",
       "      <th>25</th>\n",
       "      <th>30</th>\n",
       "      <th>35</th>\n",
       "      <th>40</th>\n",
       "      <th>45</th>\n",
       "      <th>50</th>\n",
       "      <th>55</th>\n",
       "      <th>60</th>\n",
       "      <th>65</th>\n",
       "      <th>70</th>\n",
       "      <th>75</th>\n",
       "      <th>80</th>\n",
       "    </tr>\n",
       "  </thead>\n",
       "  <tbody>\n",
       "    <tr>\n",
       "      <th>0</th>\n",
       "      <td>0.188</td>\n",
       "      <td>0.188</td>\n",
       "      <td>0.188</td>\n",
       "      <td>0.188</td>\n",
       "      <td>0.190</td>\n",
       "      <td>0.192</td>\n",
       "      <td>0.194</td>\n",
       "      <td>0.196</td>\n",
       "      <td>0.199</td>\n",
       "      <td>0.202</td>\n",
       "      <td>0.205</td>\n",
       "      <td>0.209</td>\n",
       "      <td>0.220</td>\n",
       "      <td>0.173</td>\n",
       "      <td>0.174</td>\n",
       "      <td>...</td>\n",
       "      <td>0.215</td>\n",
       "      <td>0.224</td>\n",
       "      <td>0.186</td>\n",
       "      <td>0.187</td>\n",
       "      <td>0.189</td>\n",
       "      <td>0.191</td>\n",
       "      <td>0.193</td>\n",
       "      <td>0.196</td>\n",
       "      <td>0.199</td>\n",
       "      <td>0.202</td>\n",
       "      <td>0.205</td>\n",
       "      <td>0.209</td>\n",
       "      <td>0.214</td>\n",
       "      <td>0.220</td>\n",
       "      <td>0.228</td>\n",
       "    </tr>\n",
       "    <tr>\n",
       "      <th>1</th>\n",
       "      <td>0.177</td>\n",
       "      <td>0.178</td>\n",
       "      <td>0.179</td>\n",
       "      <td>0.181</td>\n",
       "      <td>0.182</td>\n",
       "      <td>0.185</td>\n",
       "      <td>0.187</td>\n",
       "      <td>0.189</td>\n",
       "      <td>0.192</td>\n",
       "      <td>0.196</td>\n",
       "      <td>0.200</td>\n",
       "      <td>0.206</td>\n",
       "      <td>0.216</td>\n",
       "      <td>0.167</td>\n",
       "      <td>0.168</td>\n",
       "      <td>...</td>\n",
       "      <td>0.212</td>\n",
       "      <td>0.221</td>\n",
       "      <td>0.176</td>\n",
       "      <td>0.180</td>\n",
       "      <td>0.183</td>\n",
       "      <td>0.186</td>\n",
       "      <td>0.189</td>\n",
       "      <td>0.191</td>\n",
       "      <td>0.194</td>\n",
       "      <td>0.197</td>\n",
       "      <td>0.201</td>\n",
       "      <td>0.205</td>\n",
       "      <td>0.210</td>\n",
       "      <td>0.217</td>\n",
       "      <td>0.225</td>\n",
       "    </tr>\n",
       "    <tr>\n",
       "      <th>2</th>\n",
       "      <td>0.182</td>\n",
       "      <td>0.183</td>\n",
       "      <td>0.184</td>\n",
       "      <td>0.185</td>\n",
       "      <td>0.187</td>\n",
       "      <td>0.189</td>\n",
       "      <td>0.191</td>\n",
       "      <td>0.193</td>\n",
       "      <td>0.196</td>\n",
       "      <td>0.199</td>\n",
       "      <td>0.203</td>\n",
       "      <td>0.208</td>\n",
       "      <td>0.216</td>\n",
       "      <td>0.170</td>\n",
       "      <td>0.171</td>\n",
       "      <td>...</td>\n",
       "      <td>0.214</td>\n",
       "      <td>0.223</td>\n",
       "      <td>0.181</td>\n",
       "      <td>0.183</td>\n",
       "      <td>0.186</td>\n",
       "      <td>0.189</td>\n",
       "      <td>0.191</td>\n",
       "      <td>0.194</td>\n",
       "      <td>0.196</td>\n",
       "      <td>0.199</td>\n",
       "      <td>0.203</td>\n",
       "      <td>0.207</td>\n",
       "      <td>0.212</td>\n",
       "      <td>0.218</td>\n",
       "      <td>0.227</td>\n",
       "    </tr>\n",
       "    <tr>\n",
       "      <th>3</th>\n",
       "      <td>0.173</td>\n",
       "      <td>0.173</td>\n",
       "      <td>0.174</td>\n",
       "      <td>0.175</td>\n",
       "      <td>0.176</td>\n",
       "      <td>0.177</td>\n",
       "      <td>0.177</td>\n",
       "      <td>0.179</td>\n",
       "      <td>0.181</td>\n",
       "      <td>0.182</td>\n",
       "      <td>0.184</td>\n",
       "      <td>0.186</td>\n",
       "      <td>0.189</td>\n",
       "      <td>0.164</td>\n",
       "      <td>0.164</td>\n",
       "      <td>...</td>\n",
       "      <td>0.214</td>\n",
       "      <td>0.222</td>\n",
       "      <td>0.182</td>\n",
       "      <td>0.185</td>\n",
       "      <td>0.188</td>\n",
       "      <td>0.190</td>\n",
       "      <td>0.192</td>\n",
       "      <td>0.195</td>\n",
       "      <td>0.197</td>\n",
       "      <td>0.200</td>\n",
       "      <td>0.203</td>\n",
       "      <td>0.207</td>\n",
       "      <td>0.212</td>\n",
       "      <td>0.218</td>\n",
       "      <td>0.226</td>\n",
       "    </tr>\n",
       "    <tr>\n",
       "      <th>4</th>\n",
       "      <td>0.207</td>\n",
       "      <td>0.207</td>\n",
       "      <td>0.208</td>\n",
       "      <td>0.209</td>\n",
       "      <td>0.210</td>\n",
       "      <td>0.211</td>\n",
       "      <td>0.213</td>\n",
       "      <td>0.214</td>\n",
       "      <td>0.216</td>\n",
       "      <td>0.219</td>\n",
       "      <td>0.222</td>\n",
       "      <td>0.226</td>\n",
       "      <td>0.232</td>\n",
       "      <td>0.184</td>\n",
       "      <td>0.185</td>\n",
       "      <td>...</td>\n",
       "      <td>0.221</td>\n",
       "      <td>0.229</td>\n",
       "      <td>0.186</td>\n",
       "      <td>0.189</td>\n",
       "      <td>0.192</td>\n",
       "      <td>0.194</td>\n",
       "      <td>0.197</td>\n",
       "      <td>0.199</td>\n",
       "      <td>0.202</td>\n",
       "      <td>0.205</td>\n",
       "      <td>0.208</td>\n",
       "      <td>0.212</td>\n",
       "      <td>0.217</td>\n",
       "      <td>0.223</td>\n",
       "      <td>0.232</td>\n",
       "    </tr>\n",
       "  </tbody>\n",
       "</table>\n",
       "<p>5 rows × 208 columns</p>\n",
       "</div>"
      ],
      "text/plain": [
       "maturity    30                                                                                         60          ...    273           365                                                                                    \n",
       "cp_flag       C                                                                                          C         ...      P             P                                                                                    \n",
       "delta        20     25     30     35     40     45     50     55     60     65     70     75     80     20     25  ...     75     80     20     25     30     35     40     45     50     55     60     65     70     75     80\n",
       "0         0.188  0.188  0.188  0.188  0.190  0.192  0.194  0.196  0.199  0.202  0.205  0.209  0.220  0.173  0.174  ...  0.215  0.224  0.186  0.187  0.189  0.191  0.193  0.196  0.199  0.202  0.205  0.209  0.214  0.220  0.228\n",
       "1         0.177  0.178  0.179  0.181  0.182  0.185  0.187  0.189  0.192  0.196  0.200  0.206  0.216  0.167  0.168  ...  0.212  0.221  0.176  0.180  0.183  0.186  0.189  0.191  0.194  0.197  0.201  0.205  0.210  0.217  0.225\n",
       "2         0.182  0.183  0.184  0.185  0.187  0.189  0.191  0.193  0.196  0.199  0.203  0.208  0.216  0.170  0.171  ...  0.214  0.223  0.181  0.183  0.186  0.189  0.191  0.194  0.196  0.199  0.203  0.207  0.212  0.218  0.227\n",
       "3         0.173  0.173  0.174  0.175  0.176  0.177  0.177  0.179  0.181  0.182  0.184  0.186  0.189  0.164  0.164  ...  0.214  0.222  0.182  0.185  0.188  0.190  0.192  0.195  0.197  0.200  0.203  0.207  0.212  0.218  0.226\n",
       "4         0.207  0.207  0.208  0.209  0.210  0.211  0.213  0.214  0.216  0.219  0.222  0.226  0.232  0.184  0.185  ...  0.221  0.229  0.186  0.189  0.192  0.194  0.197  0.199  0.202  0.205  0.208  0.212  0.217  0.223  0.232\n",
       "\n",
       "[5 rows x 208 columns]"
      ]
     },
     "execution_count": 30,
     "metadata": {},
     "output_type": "execute_result"
    }
   ],
   "source": [
    "# you can wrap it in Pandas DataFrame, which makes the data structure more powerful\n",
    "df = pd.DataFrame(imvol.test.y, columns=imvol.options_type)\n",
    "# as you can see, now the columns are automatically labeled according to maturity, cp_flag, and delta\n",
    "df.head(5)"
   ]
  },
  {
   "cell_type": "markdown",
   "metadata": {},
   "source": [
    "# Play around a little bit :)\n",
    "### In this section I don't explain everything, you can google the function I used if you are not familar:)"
   ]
  },
  {
   "cell_type": "code",
   "execution_count": 47,
   "metadata": {
    "ExecuteTime": {
     "end_time": "2019-03-14T17:12:29.647606Z",
     "start_time": "2019-03-14T17:12:29.586780Z"
    }
   },
   "outputs": [
    {
     "name": "stdout",
     "output_type": "stream",
     "text": [
      "        date  maturity  delta  imvol cp_flag ticker\n",
      "0 2015-01-02        30     20  0.327       C   AAPL\n",
      "1 2015-01-02        30     25  0.326       C   AAPL\n",
      "2 2015-01-02        30     30  0.326       C   AAPL\n",
      "3 2015-01-02        30     35  0.326       C   AAPL\n",
      "4 2015-01-02        30     40  0.327       C   AAPL\n",
      "             date  maturity  delta  imvol cp_flag ticker\n",
      "157035 2017-12-29       365     60  0.218       P   MSFT\n",
      "157036 2017-12-29       365     65  0.221       P   MSFT\n",
      "157037 2017-12-29       365     70  0.226       P   MSFT\n",
      "157038 2017-12-29       365     75  0.231       P   MSFT\n",
      "157039 2017-12-29       365     80  0.239       P   MSFT\n"
     ]
    }
   ],
   "source": [
    "datas = []\n",
    "tickers = ['AAPL','MSFT']\n",
    "for ticker in tickers:\n",
    "    data = pd.read_feather(f'data/database/{ticker}.ft')\n",
    "    datas.append(data)\n",
    "data = pd.concat(datas)\n",
    "print(data.head(5))\n",
    "print(data.tail(5))"
   ]
  },
  {
   "cell_type": "code",
   "execution_count": 48,
   "metadata": {
    "ExecuteTime": {
     "end_time": "2019-03-14T17:12:38.276368Z",
     "start_time": "2019-03-14T17:12:38.228049Z"
    }
   },
   "outputs": [
    {
     "data": {
      "text/html": [
       "<div>\n",
       "<style scoped>\n",
       "    .dataframe tbody tr th:only-of-type {\n",
       "        vertical-align: middle;\n",
       "    }\n",
       "\n",
       "    .dataframe tbody tr th {\n",
       "        vertical-align: top;\n",
       "    }\n",
       "\n",
       "    .dataframe thead th {\n",
       "        text-align: right;\n",
       "    }\n",
       "</style>\n",
       "<table border=\"1\" class=\"dataframe\">\n",
       "  <thead>\n",
       "    <tr style=\"text-align: right;\">\n",
       "      <th></th>\n",
       "      <th>date</th>\n",
       "      <th>maturity</th>\n",
       "      <th>delta</th>\n",
       "      <th>imvol</th>\n",
       "      <th>cp_flag</th>\n",
       "      <th>ticker</th>\n",
       "      <th>const</th>\n",
       "      <th>delta_n</th>\n",
       "      <th>matur_n</th>\n",
       "      <th>delta2</th>\n",
       "      <th>inter</th>\n",
       "    </tr>\n",
       "  </thead>\n",
       "  <tbody>\n",
       "    <tr>\n",
       "      <th>0</th>\n",
       "      <td>2015-01-02</td>\n",
       "      <td>30</td>\n",
       "      <td>20</td>\n",
       "      <td>0.327</td>\n",
       "      <td>C</td>\n",
       "      <td>AAPL</td>\n",
       "      <td>1.000</td>\n",
       "      <td>-0.300</td>\n",
       "      <td>-0.418</td>\n",
       "      <td>0.090</td>\n",
       "      <td>0.125</td>\n",
       "    </tr>\n",
       "    <tr>\n",
       "      <th>1</th>\n",
       "      <td>2015-01-02</td>\n",
       "      <td>30</td>\n",
       "      <td>25</td>\n",
       "      <td>0.326</td>\n",
       "      <td>C</td>\n",
       "      <td>AAPL</td>\n",
       "      <td>1.000</td>\n",
       "      <td>-0.250</td>\n",
       "      <td>-0.418</td>\n",
       "      <td>0.062</td>\n",
       "      <td>0.104</td>\n",
       "    </tr>\n",
       "    <tr>\n",
       "      <th>2</th>\n",
       "      <td>2015-01-02</td>\n",
       "      <td>30</td>\n",
       "      <td>30</td>\n",
       "      <td>0.326</td>\n",
       "      <td>C</td>\n",
       "      <td>AAPL</td>\n",
       "      <td>1.000</td>\n",
       "      <td>-0.200</td>\n",
       "      <td>-0.418</td>\n",
       "      <td>0.040</td>\n",
       "      <td>0.084</td>\n",
       "    </tr>\n",
       "    <tr>\n",
       "      <th>3</th>\n",
       "      <td>2015-01-02</td>\n",
       "      <td>30</td>\n",
       "      <td>35</td>\n",
       "      <td>0.326</td>\n",
       "      <td>C</td>\n",
       "      <td>AAPL</td>\n",
       "      <td>1.000</td>\n",
       "      <td>-0.150</td>\n",
       "      <td>-0.418</td>\n",
       "      <td>0.022</td>\n",
       "      <td>0.063</td>\n",
       "    </tr>\n",
       "    <tr>\n",
       "      <th>4</th>\n",
       "      <td>2015-01-02</td>\n",
       "      <td>30</td>\n",
       "      <td>40</td>\n",
       "      <td>0.327</td>\n",
       "      <td>C</td>\n",
       "      <td>AAPL</td>\n",
       "      <td>1.000</td>\n",
       "      <td>-0.100</td>\n",
       "      <td>-0.418</td>\n",
       "      <td>0.010</td>\n",
       "      <td>0.042</td>\n",
       "    </tr>\n",
       "  </tbody>\n",
       "</table>\n",
       "</div>"
      ],
      "text/plain": [
       "        date  maturity  delta  imvol cp_flag ticker  const  delta_n  matur_n  delta2  inter\n",
       "0 2015-01-02        30     20  0.327       C   AAPL  1.000   -0.300   -0.418   0.090  0.125\n",
       "1 2015-01-02        30     25  0.326       C   AAPL  1.000   -0.250   -0.418   0.062  0.104\n",
       "2 2015-01-02        30     30  0.326       C   AAPL  1.000   -0.200   -0.418   0.040  0.084\n",
       "3 2015-01-02        30     35  0.326       C   AAPL  1.000   -0.150   -0.418   0.022  0.063\n",
       "4 2015-01-02        30     40  0.327       C   AAPL  1.000   -0.100   -0.418   0.010  0.042"
      ]
     },
     "execution_count": 48,
     "metadata": {},
     "output_type": "execute_result"
    }
   ],
   "source": [
    "# Note: the delta is call equivalent delta, I already transformed it in dataClean.py\n",
    "data['const'] = 1.0\n",
    "data['delta_n'] = data.eval('delta/100 - 0.5') # eval is faster, google it!\n",
    "data['matur_n'] = data.eval('maturity/365 - 0.5')\n",
    "data['delta2'] = data.eval('delta_n**2')\n",
    "data['inter'] = data.eval('delta_n*matur_n')\n",
    "data.head(5)"
   ]
  },
  {
   "cell_type": "code",
   "execution_count": 49,
   "metadata": {
    "ExecuteTime": {
     "end_time": "2019-03-14T17:13:01.604564Z",
     "start_time": "2019-03-14T17:12:58.713235Z"
    }
   },
   "outputs": [],
   "source": [
    "# let's run linear regression on each day\n",
    "def ols(df):\n",
    "    exogs = ['const','delta_n','matur_n','delta2','inter']\n",
    "    beta = np.linalg.lstsq(df[exogs],df[['imvol']])[0]\n",
    "    return pd.Series(beta.ravel(),index=exogs)\n",
    "\n",
    "mB = data.groupby(['ticker','date']).apply(ols)"
   ]
  },
  {
   "cell_type": "code",
   "execution_count": 50,
   "metadata": {
    "ExecuteTime": {
     "end_time": "2019-03-14T17:13:02.352485Z",
     "start_time": "2019-03-14T17:13:02.337828Z"
    }
   },
   "outputs": [
    {
     "data": {
      "text/html": [
       "<div>\n",
       "<style scoped>\n",
       "    .dataframe tbody tr th:only-of-type {\n",
       "        vertical-align: middle;\n",
       "    }\n",
       "\n",
       "    .dataframe tbody tr th {\n",
       "        vertical-align: top;\n",
       "    }\n",
       "\n",
       "    .dataframe thead th {\n",
       "        text-align: right;\n",
       "    }\n",
       "</style>\n",
       "<table border=\"1\" class=\"dataframe\">\n",
       "  <thead>\n",
       "    <tr style=\"text-align: right;\">\n",
       "      <th></th>\n",
       "      <th></th>\n",
       "      <th>const</th>\n",
       "      <th>delta_n</th>\n",
       "      <th>matur_n</th>\n",
       "      <th>delta2</th>\n",
       "      <th>inter</th>\n",
       "    </tr>\n",
       "    <tr>\n",
       "      <th>ticker</th>\n",
       "      <th>date</th>\n",
       "      <th></th>\n",
       "      <th></th>\n",
       "      <th></th>\n",
       "      <th></th>\n",
       "      <th></th>\n",
       "    </tr>\n",
       "  </thead>\n",
       "  <tbody>\n",
       "    <tr>\n",
       "      <th rowspan=\"5\" valign=\"top\">AAPL</th>\n",
       "      <th>2015-01-02</th>\n",
       "      <td>0.303</td>\n",
       "      <td>0.049</td>\n",
       "      <td>-0.023</td>\n",
       "      <td>0.109</td>\n",
       "      <td>-0.012</td>\n",
       "    </tr>\n",
       "    <tr>\n",
       "      <th>2015-01-05</th>\n",
       "      <td>0.319</td>\n",
       "      <td>0.056</td>\n",
       "      <td>-0.043</td>\n",
       "      <td>0.100</td>\n",
       "      <td>-0.019</td>\n",
       "    </tr>\n",
       "    <tr>\n",
       "      <th>2015-01-06</th>\n",
       "      <td>0.325</td>\n",
       "      <td>0.056</td>\n",
       "      <td>-0.039</td>\n",
       "      <td>0.100</td>\n",
       "      <td>-0.011</td>\n",
       "    </tr>\n",
       "    <tr>\n",
       "      <th>2015-01-07</th>\n",
       "      <td>0.321</td>\n",
       "      <td>0.058</td>\n",
       "      <td>-0.027</td>\n",
       "      <td>0.101</td>\n",
       "      <td>-0.017</td>\n",
       "    </tr>\n",
       "    <tr>\n",
       "      <th>2015-01-08</th>\n",
       "      <td>0.310</td>\n",
       "      <td>0.056</td>\n",
       "      <td>-0.020</td>\n",
       "      <td>0.098</td>\n",
       "      <td>-0.009</td>\n",
       "    </tr>\n",
       "  </tbody>\n",
       "</table>\n",
       "</div>"
      ],
      "text/plain": [
       "                   const  delta_n  matur_n  delta2  inter\n",
       "ticker date                                              \n",
       "AAPL   2015-01-02  0.303    0.049   -0.023   0.109 -0.012\n",
       "       2015-01-05  0.319    0.056   -0.043   0.100 -0.019\n",
       "       2015-01-06  0.325    0.056   -0.039   0.100 -0.011\n",
       "       2015-01-07  0.321    0.058   -0.027   0.101 -0.017\n",
       "       2015-01-08  0.310    0.056   -0.020   0.098 -0.009"
      ]
     },
     "execution_count": 50,
     "metadata": {},
     "output_type": "execute_result"
    }
   ],
   "source": [
    "mB.head(5)"
   ]
  },
  {
   "cell_type": "code",
   "execution_count": 55,
   "metadata": {
    "ExecuteTime": {
     "end_time": "2019-03-14T17:15:35.909183Z",
     "start_time": "2019-03-14T17:15:35.662834Z"
    }
   },
   "outputs": [
    {
     "data": {
      "text/plain": [
       "<matplotlib.axes._subplots.AxesSubplot at 0x7fb76335bba8>"
      ]
     },
     "execution_count": 55,
     "metadata": {},
     "output_type": "execute_result"
    },
    {
     "data": {
      "image/png": "[encoded data removed]",
      "text/plain": [
       "<Figure size 432x288 with 1 Axes>"
      ]
     },
     "metadata": {
      "needs_background": "light"
     },
     "output_type": "display_data"
    }
   ],
   "source": [
    "mB.loc['AAPL'].plot() # how simple is that? :)"
   ]
  },
  {
   "cell_type": "code",
   "execution_count": 60,
   "metadata": {
    "ExecuteTime": {
     "end_time": "2019-03-14T17:19:21.814342Z",
     "start_time": "2019-03-14T17:19:21.333618Z"
    }
   },
   "outputs": [
    {
     "data": {
      "image/png": "[encoded data removed]",
      "text/plain": [
       "<Figure size 1080x360 with 2 Axes>"
      ]
     },
     "metadata": {},
     "output_type": "display_data"
    }
   ],
   "source": [
    "# make a more beautiful plot\n",
    "import seaborn as sns \n",
    "sns.set(palette='Set1', style=\"whitegrid\")\n",
    "fig = plt.figure(figsize=(15,5))\n",
    "\n",
    "for i, ticker in enumerate(['AAPL','MSFT']):\n",
    "    ax = fig.add_subplot(1,2,i + 1)\n",
    "    mB.loc[ticker].plot(ax = ax)\n",
    "    ax.set_title(f\"{ticker} factors\")\n",
    "sns.despine()\n"
   ]
  },
  {
   "cell_type": "code",
   "execution_count": 61,
   "metadata": {
    "ExecuteTime": {
     "end_time": "2019-03-14T17:20:43.950936Z",
     "start_time": "2019-03-14T17:20:43.910380Z"
    }
   },
   "outputs": [
    {
     "data": {
      "text/html": [
       "<div>\n",
       "<style scoped>\n",
       "    .dataframe tbody tr th:only-of-type {\n",
       "        vertical-align: middle;\n",
       "    }\n",
       "\n",
       "    .dataframe tbody tr th {\n",
       "        vertical-align: top;\n",
       "    }\n",
       "\n",
       "    .dataframe thead tr th {\n",
       "        text-align: left;\n",
       "    }\n",
       "\n",
       "    .dataframe thead tr:last-of-type th {\n",
       "        text-align: right;\n",
       "    }\n",
       "</style>\n",
       "<table border=\"1\" class=\"dataframe\">\n",
       "  <thead>\n",
       "    <tr>\n",
       "      <th></th>\n",
       "      <th colspan=\"2\" halign=\"left\">const</th>\n",
       "      <th colspan=\"2\" halign=\"left\">delta_n</th>\n",
       "      <th colspan=\"2\" halign=\"left\">matur_n</th>\n",
       "      <th colspan=\"2\" halign=\"left\">delta2</th>\n",
       "      <th colspan=\"2\" halign=\"left\">inter</th>\n",
       "    </tr>\n",
       "    <tr>\n",
       "      <th></th>\n",
       "      <th>mean</th>\n",
       "      <th>std</th>\n",
       "      <th>mean</th>\n",
       "      <th>std</th>\n",
       "      <th>mean</th>\n",
       "      <th>std</th>\n",
       "      <th>mean</th>\n",
       "      <th>std</th>\n",
       "      <th>mean</th>\n",
       "      <th>std</th>\n",
       "    </tr>\n",
       "    <tr>\n",
       "      <th>ticker</th>\n",
       "      <th></th>\n",
       "      <th></th>\n",
       "      <th></th>\n",
       "      <th></th>\n",
       "      <th></th>\n",
       "      <th></th>\n",
       "      <th></th>\n",
       "      <th></th>\n",
       "      <th></th>\n",
       "      <th></th>\n",
       "    </tr>\n",
       "  </thead>\n",
       "  <tbody>\n",
       "    <tr>\n",
       "      <th>AAPL</th>\n",
       "      <td>0.248</td>\n",
       "      <td>0.035</td>\n",
       "      <td>0.066</td>\n",
       "      <td>0.030</td>\n",
       "      <td>0.021</td>\n",
       "      <td>0.034</td>\n",
       "      <td>0.096</td>\n",
       "      <td>0.030</td>\n",
       "      <td>0.017</td>\n",
       "      <td>0.034</td>\n",
       "    </tr>\n",
       "    <tr>\n",
       "      <th>MSFT</th>\n",
       "      <td>0.214</td>\n",
       "      <td>0.025</td>\n",
       "      <td>0.081</td>\n",
       "      <td>0.028</td>\n",
       "      <td>0.019</td>\n",
       "      <td>0.033</td>\n",
       "      <td>0.156</td>\n",
       "      <td>0.067</td>\n",
       "      <td>0.025</td>\n",
       "      <td>0.034</td>\n",
       "    </tr>\n",
       "  </tbody>\n",
       "</table>\n",
       "</div>"
      ],
      "text/plain": [
       "        const        delta_n        matur_n        delta2         inter       \n",
       "         mean    std    mean    std    mean    std   mean    std   mean    std\n",
       "ticker                                                                        \n",
       "AAPL    0.248  0.035   0.066  0.030   0.021  0.034  0.096  0.030  0.017  0.034\n",
       "MSFT    0.214  0.025   0.081  0.028   0.019  0.033  0.156  0.067  0.025  0.034"
      ]
     },
     "execution_count": 61,
     "metadata": {},
     "output_type": "execute_result"
    }
   ],
   "source": [
    "# make summary statistics, here I just want to show you how powerful Pandas is!\n",
    "mB.groupby(level=0).agg([np.mean,np.std])"
   ]
  }
 ],
 "metadata": {
  "hide_input": false,
  "kernelspec": {
   "display_name": "Python 3",
   "language": "python",
   "name": "python3"
  },
  "language_info": {
   "codemirror_mode": {
    "name": "ipython",
    "version": 3
   },
   "file_extension": ".py",
   "mimetype": "text/x-python",
   "name": "python",
   "nbconvert_exporter": "python",
   "pygments_lexer": "ipython3",
   "version": "3.7.2"
  }
 },
 "nbformat": 4,
 "nbformat_minor": 2
}
